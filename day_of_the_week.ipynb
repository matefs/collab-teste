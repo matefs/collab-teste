{
  "nbformat": 4,
  "nbformat_minor": 0,
  "metadata": {
    "colab": {
      "provenance": [],
      "authorship_tag": "ABX9TyMx8r0xnDokWRFz6TZxFv4Q",
      "include_colab_link": true
    },
    "kernelspec": {
      "name": "python3",
      "display_name": "Python 3"
    },
    "language_info": {
      "name": "python"
    }
  },
  "cells": [
    {
      "cell_type": "markdown",
      "metadata": {
        "id": "view-in-github",
        "colab_type": "text"
      },
      "source": [
        "<a href=\"https://colab.research.google.com/github/matefs/collab-teste/blob/main/day_of_the_week.ipynb\" target=\"_parent\"><img src=\"https://colab.research.google.com/assets/colab-badge.svg\" alt=\"Open In Colab\"/></a>"
      ]
    },
    {
      "cell_type": "code",
      "execution_count": null,
      "metadata": {
        "colab": {
          "base_uri": "https://localhost:8080/"
        },
        "id": "8A3VYNIbb_s8",
        "outputId": "ea5ffae0-5df3-4d14-a56a-2a895892f6e8"
      },
      "outputs": [
        {
          "output_type": "stream",
          "name": "stdout",
          "text": [
            "Requirement already satisfied: moment in /usr/local/lib/python3.10/dist-packages (0.12.1)\n",
            "Requirement already satisfied: dateparser>=0.7 in /usr/local/lib/python3.10/dist-packages (from moment) (1.2.0)\n",
            "Requirement already satisfied: pytz>=2018.9 in /usr/local/lib/python3.10/dist-packages (from moment) (2024.1)\n",
            "Requirement already satisfied: times>=0.7 in /usr/local/lib/python3.10/dist-packages (from moment) (0.7)\n",
            "Requirement already satisfied: python-dateutil in /usr/local/lib/python3.10/dist-packages (from dateparser>=0.7->moment) (2.8.2)\n",
            "Requirement already satisfied: regex!=2019.02.19,!=2021.8.27 in /usr/local/lib/python3.10/dist-packages (from dateparser>=0.7->moment) (2024.5.15)\n",
            "Requirement already satisfied: tzlocal in /usr/local/lib/python3.10/dist-packages (from dateparser>=0.7->moment) (5.2)\n",
            "Requirement already satisfied: arrow in /usr/local/lib/python3.10/dist-packages (from times>=0.7->moment) (1.3.0)\n",
            "Requirement already satisfied: types-python-dateutil>=2.8.10 in /usr/local/lib/python3.10/dist-packages (from arrow->times>=0.7->moment) (2.9.0.20240316)\n",
            "Requirement already satisfied: six>=1.5 in /usr/local/lib/python3.10/dist-packages (from python-dateutil->dateparser>=0.7->moment) (1.16.0)\n",
            "7\n"
          ]
        }
      ],
      "source": [
        "# prompt: get the number of the day of the week (of yesterday) using momentpy\n",
        "\n",
        "#!pip install moment\n",
        "import moment\n",
        "yesterday = moment.now().subtract(days=1)\n",
        "print(yesterday.weekday)\n"
      ]
    },
    {
      "cell_type": "code",
      "source": [],
      "metadata": {
        "id": "32CLeOMaejTt"
      },
      "execution_count": null,
      "outputs": []
    }
  ]
}