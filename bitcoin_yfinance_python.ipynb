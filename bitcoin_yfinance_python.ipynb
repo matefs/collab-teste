{
  "nbformat": 4,
  "nbformat_minor": 0,
  "metadata": {
    "colab": {
      "provenance": [],
      "authorship_tag": "ABX9TyN4ZrzCCIy+b8f20lMLIcSF",
      "include_colab_link": true
    },
    "kernelspec": {
      "name": "python3",
      "display_name": "Python 3"
    },
    "language_info": {
      "name": "python"
    }
  },
  "cells": [
    {
      "cell_type": "markdown",
      "metadata": {
        "id": "view-in-github",
        "colab_type": "text"
      },
      "source": [
        "<a href=\"https://colab.research.google.com/github/matefs/collab-teste/blob/main/bitcoin_yfinance_python.ipynb\" target=\"_parent\"><img src=\"https://colab.research.google.com/assets/colab-badge.svg\" alt=\"Open In Colab\"/></a>"
      ]
    },
    {
      "cell_type": "code",
      "execution_count": 2,
      "metadata": {
        "colab": {
          "base_uri": "https://localhost:8080/"
        },
        "collapsed": true,
        "id": "pnTdrKOyAjG8",
        "outputId": "1c21825e-a7a3-4988-a0e5-78ee7fd410bf"
      },
      "outputs": [
        {
          "output_type": "stream",
          "name": "stdout",
          "text": [
            "Requirement already satisfied: yfinance in /usr/local/lib/python3.10/dist-packages (0.2.41)\n",
            "Requirement already satisfied: pandas in /usr/local/lib/python3.10/dist-packages (2.1.4)\n",
            "Requirement already satisfied: numpy>=1.16.5 in /usr/local/lib/python3.10/dist-packages (from yfinance) (1.26.4)\n",
            "Requirement already satisfied: requests>=2.31 in /usr/local/lib/python3.10/dist-packages (from yfinance) (2.32.3)\n",
            "Requirement already satisfied: multitasking>=0.0.7 in /usr/local/lib/python3.10/dist-packages (from yfinance) (0.0.11)\n",
            "Requirement already satisfied: lxml>=4.9.1 in /usr/local/lib/python3.10/dist-packages (from yfinance) (4.9.4)\n",
            "Requirement already satisfied: platformdirs>=2.0.0 in /usr/local/lib/python3.10/dist-packages (from yfinance) (4.2.2)\n",
            "Requirement already satisfied: pytz>=2022.5 in /usr/local/lib/python3.10/dist-packages (from yfinance) (2024.1)\n",
            "Requirement already satisfied: frozendict>=2.3.4 in /usr/local/lib/python3.10/dist-packages (from yfinance) (2.4.4)\n",
            "Requirement already satisfied: peewee>=3.16.2 in /usr/local/lib/python3.10/dist-packages (from yfinance) (3.17.6)\n",
            "Requirement already satisfied: beautifulsoup4>=4.11.1 in /usr/local/lib/python3.10/dist-packages (from yfinance) (4.12.3)\n",
            "Requirement already satisfied: html5lib>=1.1 in /usr/local/lib/python3.10/dist-packages (from yfinance) (1.1)\n",
            "Requirement already satisfied: python-dateutil>=2.8.2 in /usr/local/lib/python3.10/dist-packages (from pandas) (2.8.2)\n",
            "Requirement already satisfied: tzdata>=2022.1 in /usr/local/lib/python3.10/dist-packages (from pandas) (2024.1)\n",
            "Requirement already satisfied: soupsieve>1.2 in /usr/local/lib/python3.10/dist-packages (from beautifulsoup4>=4.11.1->yfinance) (2.5)\n",
            "Requirement already satisfied: six>=1.9 in /usr/local/lib/python3.10/dist-packages (from html5lib>=1.1->yfinance) (1.16.0)\n",
            "Requirement already satisfied: webencodings in /usr/local/lib/python3.10/dist-packages (from html5lib>=1.1->yfinance) (0.5.1)\n",
            "Requirement already satisfied: charset-normalizer<4,>=2 in /usr/local/lib/python3.10/dist-packages (from requests>=2.31->yfinance) (3.3.2)\n",
            "Requirement already satisfied: idna<4,>=2.5 in /usr/local/lib/python3.10/dist-packages (from requests>=2.31->yfinance) (3.7)\n",
            "Requirement already satisfied: urllib3<3,>=1.21.1 in /usr/local/lib/python3.10/dist-packages (from requests>=2.31->yfinance) (2.0.7)\n",
            "Requirement already satisfied: certifi>=2017.4.17 in /usr/local/lib/python3.10/dist-packages (from requests>=2.31->yfinance) (2024.7.4)\n"
          ]
        }
      ],
      "source": [
        "!pip install yfinance pandas\n"
      ]
    },
    {
      "cell_type": "code",
      "source": [
        "import yfinance as yf\n",
        "import pandas as pd\n",
        "from datetime import datetime, timedelta\n",
        "\n",
        "hoje_datetime = datetime.now()\n",
        "dia_de_hoje_formatado = hoje_datetime.strftime('%Y-%m-%d')\n",
        "duzentos_dias_atras_datetime = hoje_datetime - timedelta(days=201)\n",
        "duzentos_dias_atras_formatado = duzentos_dias_atras_datetime.strftime('%Y-%m-%d')\n",
        "\n",
        "btc = yf.Ticker(\"BTC-USD\")\n",
        "data_preco_ultimos_duzentos_dias = btc.history(start=duzentos_dias_atras_formatado, end=dia_de_hoje_formatado)\n",
        "\n",
        "\n",
        "print(data_preco_ultimos_duzentos_dias)"
      ],
      "metadata": {
        "colab": {
          "base_uri": "https://localhost:8080/"
        },
        "collapsed": true,
        "id": "fcmpxaOoAlRI",
        "outputId": "36f661ba-2595-48a5-c0df-db3c519db07b"
      },
      "execution_count": 26,
      "outputs": [
        {
          "output_type": "stream",
          "name": "stdout",
          "text": [
            "                                   Open          High           Low  \\\n",
            "Date                                                                  \n",
            "2024-01-31 00:00:00+00:00  42946.250000  43717.406250  42298.945312   \n",
            "2024-02-01 00:00:00+00:00  42569.761719  43243.167969  41879.191406   \n",
            "2024-02-02 00:00:00+00:00  43077.640625  43422.488281  42584.335938   \n",
            "2024-02-03 00:00:00+00:00  43184.964844  43359.941406  42890.808594   \n",
            "2024-02-04 00:00:00+00:00  42994.941406  43097.644531  42374.832031   \n",
            "...                                 ...           ...           ...   \n",
            "2024-08-13 00:00:00+00:00  59356.207031  61572.398438  58506.253906   \n",
            "2024-08-14 00:00:00+00:00  60611.050781  61687.757812  58472.875000   \n",
            "2024-08-15 00:00:00+00:00  58733.261719  59838.648438  56161.593750   \n",
            "2024-08-16 00:00:00+00:00  57560.273438  59847.359375  57110.019531   \n",
            "2024-08-17 00:00:00+00:00  58893.531250  59694.667969  58814.832031   \n",
            "\n",
            "                                  Close       Volume  Dividends  Stock Splits  \n",
            "Date                                                                           \n",
            "2024-01-31 00:00:00+00:00  42582.605469  24673628793        0.0           0.0  \n",
            "2024-02-01 00:00:00+00:00  43075.773438  21423953779        0.0           0.0  \n",
            "2024-02-02 00:00:00+00:00  43185.859375  18603843039        0.0           0.0  \n",
            "2024-02-03 00:00:00+00:00  42992.250000  11169245236        0.0           0.0  \n",
            "2024-02-04 00:00:00+00:00  42583.582031  14802225490        0.0           0.0  \n",
            "...                                 ...          ...        ...           ...  \n",
            "2024-08-13 00:00:00+00:00  60609.566406  30327698167        0.0           0.0  \n",
            "2024-08-14 00:00:00+00:00  58737.269531  29961696180        0.0           0.0  \n",
            "2024-08-15 00:00:00+00:00  57560.097656  35682112440        0.0           0.0  \n",
            "2024-08-16 00:00:00+00:00  58894.105469  29350938673        0.0           0.0  \n",
            "2024-08-17 00:00:00+00:00  59478.972656  13589684021        0.0           0.0  \n",
            "\n",
            "[200 rows x 7 columns]\n"
          ]
        }
      ]
    },
    {
      "cell_type": "code",
      "source": [
        "import yfinance as yf\n",
        "import pandas as pd\n",
        "\n",
        "# Obter os dados do Bitcoin\n",
        "btc = yf.Ticker(\"BTC-USD\")\n",
        "btc_data = btc.history(period=\"2y\")\n",
        "\n",
        "# Calcular a média móvel simples de 200 dias\n",
        "btc_data['SMA_200'] = btc_data['Close'].rolling(window=200).mean()\n",
        "\n",
        "# Exibir os dados\n",
        "print(btc_data)\n"
      ],
      "metadata": {
        "colab": {
          "base_uri": "https://localhost:8080/"
        },
        "id": "tTr24SANHCfc",
        "outputId": "3dcd19fa-0a70-480e-e69f-17ca418ef4aa"
      },
      "execution_count": 29,
      "outputs": [
        {
          "output_type": "stream",
          "name": "stdout",
          "text": [
            "                                   Open          High           Low  \\\n",
            "Date                                                                  \n",
            "2022-08-19 00:00:00+00:00  23213.312500  23213.312500  20868.847656   \n",
            "2022-08-20 00:00:00+00:00  20872.841797  21350.806641  20856.730469   \n",
            "2022-08-21 00:00:00+00:00  21160.392578  21668.845703  21103.197266   \n",
            "2022-08-22 00:00:00+00:00  21531.462891  21531.462891  20939.183594   \n",
            "2022-08-23 00:00:00+00:00  21401.044922  21646.203125  20955.138672   \n",
            "...                                 ...           ...           ...   \n",
            "2024-08-14 00:00:00+00:00  60611.050781  61687.757812  58472.875000   \n",
            "2024-08-15 00:00:00+00:00  58733.261719  59838.648438  56161.593750   \n",
            "2024-08-16 00:00:00+00:00  57560.273438  59847.359375  57110.019531   \n",
            "2024-08-17 00:00:00+00:00  58893.531250  59694.667969  58814.832031   \n",
            "2024-08-19 00:00:00+00:00  58454.410156  58645.742188  58365.050781   \n",
            "\n",
            "                                  Close       Volume  Dividends  Stock Splits  \\\n",
            "Date                                                                            \n",
            "2022-08-19 00:00:00+00:00  20877.552734  40509610260        0.0           0.0   \n",
            "2022-08-20 00:00:00+00:00  21166.060547  27595671000        0.0           0.0   \n",
            "2022-08-21 00:00:00+00:00  21534.121094  23102307723        0.0           0.0   \n",
            "2022-08-22 00:00:00+00:00  21398.908203  31666498758        0.0           0.0   \n",
            "2022-08-23 00:00:00+00:00  21528.087891  31878280659        0.0           0.0   \n",
            "...                                 ...          ...        ...           ...   \n",
            "2024-08-14 00:00:00+00:00  58737.269531  29961696180        0.0           0.0   \n",
            "2024-08-15 00:00:00+00:00  57560.097656  35682112440        0.0           0.0   \n",
            "2024-08-16 00:00:00+00:00  58894.105469  29350938673        0.0           0.0   \n",
            "2024-08-17 00:00:00+00:00  59478.972656  13589684021        0.0           0.0   \n",
            "2024-08-19 00:00:00+00:00  58642.144531  18906634240        0.0           0.0   \n",
            "\n",
            "                                SMA_200  \n",
            "Date                                     \n",
            "2022-08-19 00:00:00+00:00           NaN  \n",
            "2022-08-20 00:00:00+00:00           NaN  \n",
            "2022-08-21 00:00:00+00:00           NaN  \n",
            "2022-08-22 00:00:00+00:00           NaN  \n",
            "2022-08-23 00:00:00+00:00           NaN  \n",
            "...                                 ...  \n",
            "2024-08-14 00:00:00+00:00  62356.232637  \n",
            "2024-08-15 00:00:00+00:00  62433.855156  \n",
            "2024-08-16 00:00:00+00:00  62511.884453  \n",
            "2024-08-17 00:00:00+00:00  62594.516270  \n",
            "2024-08-19 00:00:00+00:00  62674.813965  \n",
            "\n",
            "[731 rows x 8 columns]\n"
          ]
        }
      ]
    },
    {
      "cell_type": "code",
      "source": [],
      "metadata": {
        "id": "TI-OP0-QC2Wa"
      },
      "execution_count": null,
      "outputs": []
    }
  ]
}